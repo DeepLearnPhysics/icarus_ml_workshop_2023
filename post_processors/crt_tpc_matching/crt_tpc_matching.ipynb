{
 "cells": [
  {
   "cell_type": "markdown",
   "id": "c0b94c98-0d50-4b73-aad0-1d6f279a6b43",
   "metadata": {},
   "source": [
    "# Matcha Tutorial for CRT-TPC Matching\n",
    "\n",
    "[matcha](https://github.com/andrewmogan/matcha/tree/main) (pronounced like \"match\" and not like the tea) is a repository that contains algorithms and data structures for CRT-TPC matching. It is designed to be input-agnostic, meaning that `lartpc_mlreco3d` can interface with it more easily than with LArSoft. An interface with matcha exists in `lartpc_mlreco3d` which fills the appropriate data structures and runs the matching algorithm. In principle, the steps to run CRT-TPC matching are simple:\n",
    "\n",
    "1. Fill lists of matcha.Track and matcha.CRTHit instances\n",
    "2. Run the matching algorithm\n",
    "3. ???\n",
    "4. Profit\n",
    "\n",
    "In fact, step 1 is taken care of in the `run_crt_tpc_matching` post-processor of `lartpc_mlreco3d`. The `Track` class is constructed using information from `larcv.Particle` objects while the `CRTHit` class uses `larcv.CRTHit` information (which is itself constructed from the `sbnobj.CRTHit` class). "
   ]
  },
  {
   "cell_type": "markdown",
   "id": "3213e851-1dd2-41bd-9581-9bc892454eec",
   "metadata": {},
   "source": [
    "# Setup\n",
    "\n",
    "At the time of this writing, a certain lazy `matcha` author was on vacation and therefore didn't keep up with the latest `lartpc_mlreco3d`. Because of this, we need to run some awkward setup steps to point to a fork of `lartpc_mlreco3d` that runs with `matcha`. \n",
    "\n",
    "The cell below should correctly configure the necessary paths for most cases. The exception to this is if your `icarus_ml_workshop_2023` directory is not in your S(3)DF `$HOME` area. Check the output of this cell to make sure it correctly prints your username, which system you're one (SDF or S3DF), and your `WORKSHOP_DIR`."
   ]
  },
  {
   "cell_type": "code",
   "execution_count": 1,
   "id": "20d21103-0e77-4d06-a021-b14803ca30ca",
   "metadata": {},
   "outputs": [
    {
     "name": "stdout",
     "output_type": "stream",
     "text": [
      "Hello, amogan!\n",
      "You are on S3DF.\n",
      "Using WORKSHOP_DIR /sdf/home/a/amogan/icarus_ml_workshop_2023/\n"
     ]
    }
   ],
   "source": [
    "import os, sys\n",
    "import importlib\n",
    "import numpy as np\n",
    "import torch\n",
    "import yaml\n",
    "\n",
    "USER = os.environ.get('USER')\n",
    "HOME = os.environ.get('HOME')\n",
    "print('Hello, {}!'.format(USER))\n",
    "\n",
    "IS_S3DF = False\n",
    "if os.path.exists('/sdf/data/neutrino/{}'.format(USER)):\n",
    "    print('You are on S3DF.')\n",
    "    IS_S3DF = True\n",
    "else:\n",
    "    print('You are on SDF.')\n",
    "    \n",
    "WORKSHOP_DIR = '{}/icarus_ml_workshop_2023/'.format(HOME)\n",
    "if not os.path.exists(WORKSHOP_DIR):\n",
    "    print('Could not find WORKSHOP_DIR {}. Trying recursive find relative to {}'.format(WORKSHOP_DIR, HOME))\n",
    "    import subprocess\n",
    "\n",
    "    # Run the find command\n",
    "    command = 'find $HOME -type d -name \"icarus_ml_workshop_2023\"'\n",
    "    result = subprocess.run(command, shell=True, capture_output=True, text=True)\n",
    "\n",
    "    # Store the output in a variable\n",
    "    output = result.stdout.strip()\n",
    "    \n",
    "    if output == '':\n",
    "        raise ValueError('''\n",
    "            Workshop directory not found. Please configure the WORKSHOP_DIR variable in this \n",
    "            cell to point to your icarus_ml_workshop_2023 directory.''')\n",
    "\n",
    "    print('Using workshop dir at {}'.format(output))\n",
    "    \n",
    "    WORKSHOP_DIR = output + '/'\n",
    "\n",
    "else:\n",
    "    print('Using WORKSHOP_DIR {}'.format(WORKSHOP_DIR))"
   ]
  },
  {
   "cell_type": "markdown",
   "id": "15115bb4-c9d1-4fe1-a513-a1e3d648a4ec",
   "metadata": {},
   "source": [
    "This next cell can be ignored if you're on S3DF."
   ]
  },
  {
   "cell_type": "code",
   "execution_count": 2,
   "id": "b40bcee7-73f1-4ce3-9143-578db9510936",
   "metadata": {},
   "outputs": [
    {
     "name": "stdout",
     "output_type": "stream",
     "text": [
      "Nothing to see here. Move along.\n"
     ]
    }
   ],
   "source": [
    "# Install Andrew's fork of lartpc_mlreco3d if on SDF\n",
    "SDF_SOFTWARE_DIR = ''\n",
    "if not IS_S3DF:\n",
    "    os.chdir('/sdf/group/neutrino/{}/'.format(USER))\n",
    "    os.system('git clone https://github.com/andrewmogan/lartpc_mlreco3d.git lartpc_mlreco3d_andrew_fork')\n",
    "    SDF_SOFTWARE_DIR = '/sdf/group/neutrino/{}/lartpc_mlreco3d_andrew_fork/'\n",
    "else:\n",
    "    print('Nothing to see here. Move along.')"
   ]
  },
  {
   "cell_type": "markdown",
   "id": "fdfaaeae-a884-48cb-a4cc-18b366503e5b",
   "metadata": {},
   "source": [
    "Next, we check if `matcha` can be imported. If not, this next cell will clone it to your `/sdf/group/neutrino/$USER` area and run the installation. Check that this cell prints `matcha import successful`. "
   ]
  },
  {
   "cell_type": "code",
   "execution_count": 3,
   "id": "5d77e81e-4c37-4b91-b6d5-6da30fcde00d",
   "metadata": {},
   "outputs": [
    {
     "name": "stdout",
     "output_type": "stream",
     "text": [
      "matcha import successful.\n"
     ]
    }
   ],
   "source": [
    "# Check if matcha is installed. If not, install it in /sdf/group/neutrino/$USER/.\n",
    "package_name = 'matcha'\n",
    "\n",
    "try:\n",
    "    importlib.import_module(package_name)\n",
    "    print('matcha import successful.')\n",
    "except ImportError:\n",
    "    print('matcha import failed. Attempting to install from Github...')\n",
    "    os.chdir('/sdf/group/neutrino/{}/'.format(USER))\n",
    "    os.system('git clone https://github.com/andrewmogan/matcha.git')\n",
    "    os.chdir('matcha')\n",
    "    os.system('python3 -m pip install .')\n",
    "    try:\n",
    "        # Try again\n",
    "        importlib.import_module(package_name)\n",
    "        print('matcha import successful.')\n",
    "    except:\n",
    "        raise ImportError('matcha still not found. Time to panic.')"
   ]
  },
  {
   "cell_type": "markdown",
   "id": "1237bfcc-76e9-4d1e-9e2f-53e1dc7a2592",
   "metadata": {},
   "source": [
    "Before proceeding, we need to make sure the relevant directories exist. Check the output of this next cell for any errors. "
   ]
  },
  {
   "cell_type": "code",
   "execution_count": 4,
   "id": "310928fd-5faf-4f39-9639-d39211baceec",
   "metadata": {},
   "outputs": [],
   "source": [
    "# Check and set necessary paths\n",
    "SOFTWARE_DIR = '/sdf/group/neutrino/amogan/lartpc_mlreco3d_myfork/'\n",
    "if not IS_S3DF:\n",
    "    SOFTWARE_DIR = SDF_SOFTWARE_DIR\n",
    "MATCHA_DIR = '/sdf/group/neutrino/{}/matcha'.format(USER)\n",
    "CONFIG_PATH = WORKSHOP_DIR+'post_processors/crt_tpc_matching/'\n",
    "ANA_CONFIG = CONFIG_PATH + 'crt_tpc_ana_config.cfg'\n",
    "MODEL_CONFIG = CONFIG_PATH + 'dhk_config.cfg'\n",
    "\n",
    "# Check directories \n",
    "if not os.path.exists(SOFTWARE_DIR):\n",
    "    raise ValueError('Software directory {:s} does not exist'.format(SOFTWARE_DIR))\n",
    "if not os.path.exists(MATCHA_DIR):\n",
    "    raise ValueError('matcha directory {:s} does not exist'.format(MATCHA_DIR))\n",
    "if not os.path.exists(CONFIG_PATH):\n",
    "    raise ValueError('Config directory {:s} does not exist'.format(CONFIG_PATH))\n",
    "if not os.path.exists(ANA_CONFIG):\n",
    "    raise FileNotFoundError('Ana config file {:s} does not exist'.format(ANA_CONFIG))\n",
    "if not os.path.exists(MODEL_CONFIG):\n",
    "    raise FileNotFoundError('Model config file {:s} does not exist'.format(MODEL_CONFIG))\n",
    "    \n",
    "sys.path.append(SOFTWARE_DIR)"
   ]
  },
  {
   "cell_type": "markdown",
   "id": "22a0f601-50f5-4645-a3c9-3d133125da46",
   "metadata": {},
   "source": [
    "Finally, we load the necessary configurations."
   ]
  },
  {
   "cell_type": "code",
   "execution_count": 5,
   "id": "ba92a149-3165-4073-b9f5-c89458d778a7",
   "metadata": {},
   "outputs": [
    {
     "name": "stdout",
     "output_type": "stream",
     "text": [
      "\n",
      "Config processed at: Linux sdfampere001 4.18.0-372.32.1.el8_6.x86_64 #1 SMP Fri Oct 7 12:35:10 EDT 2022 x86_64 x86_64 x86_64 GNU/Linux\n",
      "\n",
      "$CUDA_VISIBLE_DEVICES=\"0\"\n",
      "\n"
     ]
    }
   ],
   "source": [
    "from mlreco.main_funcs import process_config\n",
    "\n",
    "# Load anatools config file\n",
    "#DATA_PATH = '/sdf/data/neutrino/icarus/bnb_numu_cosmic/sample/numu_corsika_mini_raw.h5'\n",
    "DATA_PATH = '/sdf/group/neutrino/koh0207/logs/nu_selection/numu/sample/numu_corsika_mini_reco.h5'\n",
    "if not IS_S3DF:\n",
    "    DATA_PATH = '/sdf/group/neutrino/icarus/bnb_numu_cosmic/sample/numu_corsika_mini_raw.h'\n",
    "analysis_config = yaml.safe_load(open(ANA_CONFIG, 'r').read().replace('DATA_PATH', DATA_PATH))\n",
    "\n",
    "cfg = yaml.load(open(MODEL_CONFIG, 'r'), Loader=yaml.Loader)\n",
    "process_config(cfg, verbose=False)"
   ]
  },
  {
   "cell_type": "markdown",
   "id": "8e8e7904-0ee6-4ac2-962c-5d18f5b0c487",
   "metadata": {},
   "source": [
    "# Running the Post-Processor"
   ]
  },
  {
   "cell_type": "markdown",
   "id": "acb4ada6-172b-49ba-8f34-22dcb42f8b1e",
   "metadata": {},
   "source": [
    "To run the CRT-TPC matching post-processor, you'll need to add this block to your analysis config under `post_processing`:\n",
    "\n",
    "```yaml\n",
    "post_processing:\n",
    "  run_crt_tpc_matching:\n",
    "    volume_boundaries: [[-358.49, 358.49], [-181.86, 134.96], [-894.95, 894.95]]\n",
    "    crthit_keys: ['crthits']\n",
    "    matcha_config_path: 'matcha_config.yaml'\n",
    "    minimum_pe: 50\n",
    "```\n",
    "\n",
    "The `volume_boundaries` are ICARUS-specific and would need to be changed for other detectors. `crthit_keys` looks for the appropriate keys in the `data` dictionary output by the ML chain. `matcha_config_path` should point to a valid `matcha` config file. yaml configuration for `matcha` will be explained later, but if in doubt, use the default config under `/path/to/matcha/config/default.yaml`. Finally, `minimum_pe` is just a simple PE threshold for CRT hits to be considered. This will likely be moved into the `matcha` yaml configuration soon, so this may be deprecated by the time you're reading this.\n",
    "\n",
    "Assuming this block exists, just run the `AnaToolsManager` like usual:"
   ]
  },
  {
   "cell_type": "code",
   "execution_count": 6,
   "id": "49b35e32-b1e5-43ba-af0c-ed5bfc6ef6c4",
   "metadata": {},
   "outputs": [
    {
     "name": "stdout",
     "output_type": "stream",
     "text": [
      "Welcome to JupyROOT 6.22/08\n",
      "Registered /sdf/group/neutrino/koh0207/logs/nu_selection/numu/sample/numu_corsika_mini_reco.h5\n"
     ]
    }
   ],
   "source": [
    "from analysis.manager import AnaToolsManager\n",
    "manager = AnaToolsManager(analysis_config)\n",
    "\n",
    "manager.initialize()"
   ]
  },
  {
   "cell_type": "code",
   "execution_count": 7,
   "id": "fe376d1b-3eae-4524-82a1-c76954d9d4ef",
   "metadata": {},
   "outputs": [],
   "source": [
    "data, result = manager.forward(iteration=0)"
   ]
  },
  {
   "cell_type": "markdown",
   "id": "48dae682-7ceb-49b7-af40-1eacb46755c6",
   "metadata": {},
   "source": [
    "Note that the CRT-TPC matching post processor will only run on files that have the `crthits` dataset parsed. You can check this using the cell below."
   ]
  },
  {
   "cell_type": "code",
   "execution_count": 8,
   "id": "c3632274-49f3-4b7d-889d-141e6446d1ab",
   "metadata": {},
   "outputs": [
    {
     "name": "stdout",
     "output_type": "stream",
     "text": [
      "Good to go\n"
     ]
    }
   ],
   "source": [
    "if 'crthits' not in data.keys():\n",
    "    raise ValueError('crthits not found in data dictionary. Make sure DATA_PATH points to a valid file.')\n",
    "else:\n",
    "    print('Good to go')"
   ]
  },
  {
   "cell_type": "code",
   "execution_count": 9,
   "id": "8d13ecf0-ed5b-4eda-92ad-ceb121656908",
   "metadata": {},
   "outputs": [],
   "source": [
    "manager.load_representations(data, result) # This will save 'Particle' and 'Interaction' instances to result dict directly"
   ]
  },
  {
   "cell_type": "markdown",
   "id": "b2fba89f-923c-45e8-82a7-83c2abcb7f82",
   "metadata": {},
   "source": [
    "This next function takes the `result['interactions']` dataset and checks if the interactions contain any CRT hits that have been matched to a track. "
   ]
  },
  {
   "cell_type": "code",
   "execution_count": 10,
   "id": "f3dd17e5-68b9-40f4-94b6-a514f96314d2",
   "metadata": {},
   "outputs": [],
   "source": [
    "def has_crthit_match(interactions):\n",
    "    found_crt_match = False\n",
    "    interactions_with_match = []\n",
    "    for interaction_list in interactions:\n",
    "        for interaction in interaction_list:\n",
    "            if interaction.crthit_matched:\n",
    "                found_crt_match = True\n",
    "                interactions_with_match.append(interaction.id)\n",
    "                break\n",
    "\n",
    "    if found_crt_match:\n",
    "        print('CRT match found in interactions:', interactions_with_match)\n",
    "    else:\n",
    "        print('No interactions found with CRT hit match')"
   ]
  },
  {
   "cell_type": "markdown",
   "id": "3c610616-d3a8-4138-bcd7-9a5394109690",
   "metadata": {},
   "source": [
    "Since we haven't run `matcha` yet, we don't expect there to be any matches. "
   ]
  },
  {
   "cell_type": "code",
   "execution_count": 11,
   "id": "5cd2a95c-6888-4dcd-ad3a-59db6b1ed74a",
   "metadata": {},
   "outputs": [
    {
     "name": "stdout",
     "output_type": "stream",
     "text": [
      "No interactions found with CRT hit match\n"
     ]
    }
   ],
   "source": [
    "has_crthit_match(result['interactions'])"
   ]
  },
  {
   "cell_type": "markdown",
   "id": "d9e28eb8-7408-4cc9-87c4-af52901177f4",
   "metadata": {},
   "source": [
    "Now, we run the CRT-TPC matching post-processor. You should see your yaml configuration printed below as well as the path where your output `.pkl` file is stored. We'll see how to use this output file shortly. "
   ]
  },
  {
   "cell_type": "code",
   "execution_count": 12,
   "id": "eab3dfff-5df0-4939-af67-ab5e2a621bf6",
   "metadata": {},
   "outputs": [
    {
     "name": "stdout",
     "output_type": "stream",
     "text": [
      "Running CRT matching...\n",
      "*******Running with config********\n",
      " dca_parameters:\n",
      "  isdata: false\n",
      "  method: simple\n",
      "  threshold: 50\n",
      "  trigger_timestamp: None\n",
      "file_save_config:\n",
      "  save_file_name: matcha_output.pkl\n",
      "  save_file_path: ./\n",
      "  save_to_file: true\n",
      "match_making_parameters:\n",
      "  matching_method: dca\n",
      "pca_parameters:\n",
      "  direction_method: pca\n",
      "  min_points_in_radius: 10\n",
      "  radius: 10\n",
      "\n",
      "**********************************\n",
      "matcha output saved to .//matcha_output.pkl\n",
      "Done CRT matching.\n"
     ]
    }
   ],
   "source": [
    "manager.run_post_processing(data, result)"
   ]
  },
  {
   "cell_type": "markdown",
   "id": "2d95ea85-6d8e-41ab-af65-d8a3091b2ac9",
   "metadata": {},
   "source": [
    "Let's see if we found any matches by using `has_crthit_match` again."
   ]
  },
  {
   "cell_type": "code",
   "execution_count": 13,
   "id": "6810b280-9ffe-45bc-9bba-334de7fa6426",
   "metadata": {},
   "outputs": [
    {
     "name": "stdout",
     "output_type": "stream",
     "text": [
      "CRT match found in interactions: [1]\n"
     ]
    }
   ],
   "source": [
    "has_crthit_match(result['interactions'])"
   ]
  },
  {
   "cell_type": "markdown",
   "id": "6cd97a2d-5d30-440e-946c-28e8a3cdb552",
   "metadata": {},
   "source": [
    "As you can see, this post-processor modifies the `interactions` dataset in place to specify which interactions contain a particle with a matched `CRTHit`. The ID of the corresponding track and CRT hit can be obtained using `interaction.crthit_matched_particle_id` and `interaction.crthit_id`, respectively.\n",
    "\n",
    "> **Note:**\n",
    "> In the future, `matcha` will modify the `Particle` class to contain matched CRT hit information instead of the `Interaction` class. \n",
    "\n",
    "And that's it! To see how to load and visualize the `matcha` output, have a look at the `visualizer.ipynb` notebook in the `matcha` top directory. Before that, let's talk about what's actually happening under the hood. "
   ]
  },
  {
   "cell_type": "markdown",
   "id": "a1258689-86b6-4e2a-b53c-e6cd1b0cdcbe",
   "metadata": {},
   "source": [
    "# Matching Algorithm Overview\n",
    "\n",
    "The matching algorithm contained in matcha is a Python port of [code already developed in LArSoft for the ICARUS experiment](https://github.com/SBNSoftware/icaruscode/blob/develop/icaruscode/CRT/CRTUtils/CRTT0MatchAlg.h). While the implentation here may differ slightly, the credit for algorithm development goes to the original authors of the LArSoft code. \n",
    "\n",
    "The purpose of the matching algorithm is to identify tracks in the LArTPC which are cosmogenic in origin, as opposed to neutrino-induced. Tracks identified as cosmic can then be rejected as background, thereby enhancing the signal \"purity\" of the neutrino sample. To this end, modern LArTPCs generally use cosmic ray tagger (CRT) planes surrounding the detector to identify particles that originated outside the active detector volume. This matching algorithm seeks to determine if tracks in the detector are likely cosmics by checking if the track timing and geometry are consistent with a CRT \"hit.\"\n",
    "\n",
    "For each track in a LArTPC image (or \"event\"), the track start and end points, as well as their direction unit vectors, are estimated using [principal component analysis](https://en.wikipedia.org/wiki/Principal_component_analysis) (PCA). Each point and unit vector then defines a line in 3D space. For each CRT hit, we then calculate the distance of closest approach (DCA) between the extrapolated track line and the CRT hit. If the DCA falls below some configurable threshold, the pair is considered a match candidate. The \"best\" match is then determined to be the pair with the minimum DCA. \n",
    "\n",
    "The image below (credit to Michelle Stancari) shows a cartoon of this process."
   ]
  },
  {
   "cell_type": "code",
   "execution_count": 14,
   "id": "ead0981f-8ac9-4882-91e8-fd771c1fc234",
   "metadata": {},
   "outputs": [
    {
     "data": {
      "image/png": "[encoded data removed]",
      "text/plain": [
       "<IPython.core.display.Image object>"
      ]
     },
     "execution_count": 14,
     "metadata": {},
     "output_type": "execute_result"
    }
   ],
   "source": [
    "from IPython import display\n",
    "display.Image(\"/sdf/home/a/amogan/crt_tpc_diagram.png\")"
   ]
  },
  {
   "cell_type": "markdown",
   "id": "cf5b46ef-f507-4a8f-b6ac-3c5cf4d1b572",
   "metadata": {},
   "source": [
    "# `matcha` Classes\n",
    "\n",
    "Before moving on, let's take a look at the data structures `matcha` uses to perform the matching.  "
   ]
  },
  {
   "cell_type": "markdown",
   "id": "b60f48d8-4d59-4202-9640-7f30cee47022",
   "metadata": {},
   "source": [
    "## `Track` Class\n",
    "The `Track` class attributes are based on the `Particle` class from [lartpc_mlreco3d](https://github.com/DeepLearnPhysics/lartpc_mlreco3d/blob/develop/analysis/classes/Particle.py). The _required_ attributes are\n",
    "- `id`: unique instance identifier\n",
    "- `image_id`: identifier of the track image (or \"event\").\n",
    "- `interaction_id`: identifier of the track interaction (or \"vertex\").\n",
    "- `points`: (N, 3) array of 3D track points in cm.\n",
    "- `depositions`: (N, 3) array of track point energy depositions. This array is used for determining track track and end points based on which end of the track has greater average energy within a given radius. Since this is relative, the specific unit used doesn't matter.\n",
    "\n",
    "There also _optional_ Track attributes and class methods related to finding the track start and end point positions and directions. Since `lartpc_mlreco3d` now has a post processor that handles these, you shouldn't have to worry about them, so they're not discussed here. See the `matcha` README for more information."
   ]
  },
  {
   "cell_type": "markdown",
   "id": "2a8a6e19-1dc1-49cd-b2a9-bb1d16eb79bb",
   "metadata": {},
   "source": [
    "## `CRTHit` Class\n",
    "The available attributes in the `matcha.CRTHit` class is based on the implementation in [larcv](https://github.com/DeepLearnPhysics/larcv2/blob/develop/larcv/core/DataFormat/CRTHit.h), which is in turn based on the implementation in [sbnobj](https://github.com/SBNSoftware/sbnobj/blob/develop/sbnobj/Common/CRT/CRTHit.hh). The _required_ attributes are\n",
    "- `id`: unique instance identifier\n",
    "- `t0_sec`: seconds part of the hit t0. For Monte Carlo (MC), this will be 0. \n",
    "- `t0_ns`: nanoseconds part of the hit t0, relative to `t0_sec`. \n",
    "- `t1_ns`: timestamp of the CRT hit relative to the trigger timestamp. Only needed for data, not MC.\n",
    "- `position_x`: x-position in cm.\n",
    "- `position_y`: y-position in cm.\n",
    "- `position_z`: z-position in cm.\n",
    "\n",
    "The _optional_ attributes are\n",
    "- `error_x`: x-position error in cm. Only necessary for alternative DCA calculations. Default value is 0.\n",
    "- `error_y`: y-position error in cm. Only necessary for alternative DCA calculations. Default value is 0.\n",
    "- `error_z`: z-position error in cm. Only necessary for alternative DCA calculations. Default value is 0.\n",
    "- `total_pe`: Total number of photoelectrons (PE). Default value is -1.\n",
    "- `plane`: Integer identifying the CRT wall. Default value is -1.\n",
    "- `tagger`: String idenifying the CRT wall. Default value is `''`.\n",
    "\n",
    "All of these attributes should be available from the larcv or sbnobj CRTHit instances. \n",
    "\n",
    "`CRTHit` contains one method, `get_time_in_microseconds`, which uses the provided t0 information and converts it to a value in microseconds. This is called automatically when running `get_track_crthit_matches`. "
   ]
  },
  {
   "cell_type": "markdown",
   "id": "1b8e5bcd-2c77-4c56-832f-c3cdfa53fc8c",
   "metadata": {},
   "source": [
    "## `MatchCandidate` Class\n",
    "\n",
    "When a match between a `Track` and `CRTHit` is found, the matched instances are stored in a `MatchCandidate` class instance. The attributes of this class are\n",
    "- `track_id`: the `id` of the matched `Track` instance.\n",
    "- `crthit_id`: the `id` of the matched `CRTHit` instance.\n",
    "- `distance_of_closest_approach`: calculated DCA between the matched `Track` and `CRTHit`. "
   ]
  },
  {
   "cell_type": "markdown",
   "id": "71d2e99a-532f-4f7d-84f8-d8416bf51ad9",
   "metadata": {},
   "source": [
    "## yaml Configuration\n",
    "\n",
    "In addition to lists of `Track` and `CRTHit` instances, the match-making algorithm takes as input a yaml congiruation file containing tuneable parameters. The default configuration can be found in `/path/to/matcha/config/default.yaml`:\n",
    "\n",
    "```yaml\n",
    "match_making_parameters:\n",
    "  matching_method: 'dca'\n",
    "\n",
    "dca_parameters:\n",
    "  threshold: 50\n",
    "  method: 'simple'\n",
    "  trigger_timestamp: None\n",
    "  isdata: False\n",
    "  \n",
    "pca_parameters:\n",
    "  radius: 10\n",
    "  min_points_in_radius: 10\n",
    "  direction_method: 'pca'\n",
    "\n",
    "file_save_config:\n",
    "  save_to_file: True\n",
    "  save_file_path: './'\n",
    "  save_file_name: 'matcha_output.pkl'\n",
    "```\n",
    "\n",
    "The default matching method is `dca` (distance of closest approach). `dca_parameters` contains fields that specify \n",
    "\n",
    "- a distance `threshold` in centimeters,\n",
    "- a `simple` method (currently the only method),\n",
    "- a `trigger_timestamp` (only necessary when running on data), and\n",
    "- an `isdata` boolean flag. Note that this must be `True` if `trigger_timestamp` is not `None`. \n",
    "\n",
    "Note that the `pca_parameters` specifies fields for PCA estimation of `Track` start and end point position and direction estimation if and only if that information is not present in the `Track` instances. Since `lartpc_mlreco3d` has a separate post processor for this, we don't need it here. Finally, the `file_save_config` block specifies where to store the match-making output. "
   ]
  },
  {
   "cell_type": "markdown",
   "id": "83555296-7f75-4680-9167-d24b9d110a79",
   "metadata": {},
   "source": [
    "## ~~My to-do list~~ Exercises for the Reader!\n",
    "- Fix all the Github issues for me\n",
    "- Write efficiency metrics for me\n",
    "- Combine with PMT information\n",
    "    - For each matched track, check the interaction flash time. If the flash time is less than the CRT time, the track is exiting and therefore neutrino-induced.\n",
    "- Implement alternative matching methods\n",
    "    - Currently, a simple DCA calculation is the only matching method. You can write a separate matching function in `dca_methods.py` (poorly named for historical reasons; may be renamed at a later date) and configure the `matching_method` yaml parameter to point to your new function.\n",
    "- Implement unit tests into matcha\n",
    "- Run the matching algorithm using your data file of choice\n",
    "    - Load the output file into visualizer.ipynb. Do the plotted matches look visually reasonable?\n",
    "    - How many matches do you get when using a 50 cm threshold? 100 cm? 200 cm?"
   ]
  },
  {
   "cell_type": "code",
   "execution_count": null,
   "id": "dd14f8cd-2f9b-42d3-91b8-7045db111d24",
   "metadata": {},
   "outputs": [],
   "source": []
  }
 ],
 "metadata": {
  "kernelspec": {
   "display_name": "Python 3 (ipykernel)",
   "language": "python",
   "name": "python3"
  },
  "language_info": {
   "codemirror_mode": {
    "name": "ipython",
    "version": 3
   },
   "file_extension": ".py",
   "mimetype": "text/x-python",
   "name": "python",
   "nbconvert_exporter": "python",
   "pygments_lexer": "ipython3",
   "version": "3.8.10"
  }
 },
 "nbformat": 4,
 "nbformat_minor": 5
}
