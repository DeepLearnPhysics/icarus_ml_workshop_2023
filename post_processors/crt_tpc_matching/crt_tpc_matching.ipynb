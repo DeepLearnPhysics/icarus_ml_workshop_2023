{
 "cells": [
  {
   "cell_type": "code",
   "execution_count": 1,
   "id": "20d21103-0e77-4d06-a021-b14803ca30ca",
   "metadata": {},
   "outputs": [
    {
     "name": "stdout",
     "output_type": "stream",
     "text": [
      "Hello, amogan!\n",
      "Could not find WORKSHOP_DIR /sdf/home/a/amogan/icarus_ml_workshop_023/. Trying recursive find relative to /sdf/home/a/amogan\n",
      "Found workshop dir at /sdf/home/a/amogan/icarus_ml_workshop_2023\n",
      "You are on S3DF.\n"
     ]
    }
   ],
   "source": [
    "import os, sys\n",
    "import importlib\n",
    "import numpy as np\n",
    "import torch\n",
    "import yaml\n",
    "\n",
    "USER = os.environ.get('USER')\n",
    "HOME = os.environ.get('HOME')\n",
    "print('Hello, {}!'.format(USER))\n",
    "\n",
    "WORKSHOP_DIR = '{}/icarus_ml_workshop_2023/'.format(HOME)\n",
    "if not os.path.exists(WORKSHOP_DIR):\n",
    "    print('Could not find WORKSHOP_DIR {}. Trying recursive find relative to {}'.format(WORKSHOP_DIR, HOME))\n",
    "    import subprocess\n",
    "\n",
    "    # Run the find command\n",
    "    command = 'find $HOME -type d -name \"icarus_ml_workshop_2023\"'\n",
    "    result = subprocess.run(command, shell=True, capture_output=True, text=True)\n",
    "\n",
    "    # Store the output in a variable\n",
    "    output = result.stdout.strip()\n",
    "    \n",
    "    if output == '':\n",
    "        raise ValueError('Workshop directory not found. Please configure the WORKSHOP_DIR variable in this cell')\n",
    "\n",
    "    # Print the output\n",
    "    print('Found workshop dir at {}'.format(output))\n",
    "    \n",
    "    WORKSHOP_DIR = output + '/'\n",
    "\n",
    "else:\n",
    "    print('Using WORKSHOP_DIR {}'.format(WORKSHOP_DIR))\n",
    "\n",
    "MATCHA_DIR = '/sdf/group/neutrino/{}/matcha'.format(USER)\n",
    "IS_S3DF = False\n",
    "if os.path.exists('/sdf/data/neutrino/{}'.format(USER)):\n",
    "    print('You are on S3DF.')\n",
    "    IS_S3DF = True\n",
    "else:\n",
    "    print('You are on SDF.')"
   ]
  },
  {
   "cell_type": "code",
   "execution_count": 2,
   "id": "b40bcee7-73f1-4ce3-9143-578db9510936",
   "metadata": {},
   "outputs": [],
   "source": [
    "# Install Andrew's fork of lartpc_mlreco3d if on SDF\n",
    "SDF_SOFTWARE_DIR = ''\n",
    "if not IS_S3DF:\n",
    "    os.chdir('/sdf/group/neutrino/{}/'.format(USER))\n",
    "    os.system('git clone https://github.com/andrewmogan/lartpc_mlreco3d.git lartpc_mlreco3d_andrew_fork')\n",
    "    SDF_SOFTWARE_DIR = '/sdf/group/neutrino/{}/lartpc_mlreco3d_andrew_fork/'"
   ]
  },
  {
   "cell_type": "code",
   "execution_count": 3,
   "id": "5d77e81e-4c37-4b91-b6d5-6da30fcde00d",
   "metadata": {},
   "outputs": [
    {
     "name": "stdout",
     "output_type": "stream",
     "text": [
      "matcha import successful.\n"
     ]
    }
   ],
   "source": [
    "# Check if matcha is installed. If not, install it in /sdf/group/neutrino/$USER/.\n",
    "package_name = 'matcha'\n",
    "\n",
    "try:\n",
    "    importlib.import_module(package_name)\n",
    "    print('matcha import successful.')\n",
    "except ImportError:\n",
    "    print('matcha import failed. Attempting to install from Github...')\n",
    "    os.chdir('/sdf/group/neutrino/{}/'.format(USER))\n",
    "    os.system('git clone https://github.com/andrewmogan/matcha.git')\n",
    "    os.chdir('matcha')\n",
    "    os.system('python3 -m pip install .')\n",
    "    try:\n",
    "        # Try again\n",
    "        importlib.import_module(package_name)\n",
    "        print('matcha import successful.')\n",
    "    except:\n",
    "        raise ImportError('matcha still not found. Time to panic.')"
   ]
  },
  {
   "cell_type": "code",
   "execution_count": 4,
   "id": "310928fd-5faf-4f39-9639-d39211baceec",
   "metadata": {},
   "outputs": [],
   "source": [
    "# Check and set necessary paths\n",
    "SOFTWARE_DIR = '/sdf/group/neutrino/amogan/lartpc_mlreco3d_myfork/'\n",
    "if not IS_S3DF:\n",
    "    SOFTWARE_DIR = SDF_SOFTWARE_DIR\n",
    "CONFIG_PATH = WORKSHOP_DIR+'post_processors/crt_tpc_matching/'\n",
    "ANA_CONFIG = CONFIG_PATH + 'crt_tpc_ana_config.cfg'\n",
    "MODEL_CONFIG = CONFIG_PATH + 'dhk_config.cfg'\n",
    "\n",
    "# Check directories \n",
    "if not os.path.exists(SOFTWARE_DIR):\n",
    "    raise ValueError('Software directory {:s} does not exist'.format(SOFTWARE_DIR))\n",
    "if not os.path.exists(CONFIG_PATH):\n",
    "    raise ValueError('Config directory {:s} does not exist'.format(CONFIG_PATH))\n",
    "if not os.path.exists(ANA_CONFIG):\n",
    "    raise FileNotFoundError('Ana config file {:s} does not exist'.format(ANA_CONFIG))\n",
    "if not os.path.exists(MODEL_CONFIG):\n",
    "    raise FileNotFoundError('Model config file {:s} does not exist'.format(MODEL_CONFIG))\n",
    "    \n",
    "sys.path.append(SOFTWARE_DIR)"
   ]
  },
  {
   "cell_type": "code",
   "execution_count": 5,
   "id": "ba92a149-3165-4073-b9f5-c89458d778a7",
   "metadata": {},
   "outputs": [
    {
     "name": "stdout",
     "output_type": "stream",
     "text": [
      "\n",
      "Config processed at: Linux sdfampere001 4.18.0-372.32.1.el8_6.x86_64 #1 SMP Fri Oct 7 12:35:10 EDT 2022 x86_64 x86_64 x86_64 GNU/Linux\n",
      "\n",
      "$CUDA_VISIBLE_DEVICES=\"0\"\n",
      "\n"
     ]
    }
   ],
   "source": [
    "from mlreco.main_funcs import process_config\n",
    "\n",
    "# Load anatools config file\n",
    "DATA_PATH = '/sdf/data/neutrino/icarus/bnb_numu_cosmic/sample/numu_corsika_mini_raw.h5'\n",
    "if not IS_S3DF:\n",
    "    DATA_PATH = '/sdf/group/neutrino/icarus/bnb_numu_cosmic/sample/numu_corsika_mini_raw.h'\n",
    "analysis_config = yaml.safe_load(open(ANA_CONFIG, 'r').read().replace('DATA_PATH', DATA_PATH))\n",
    "\n",
    "cfg = yaml.load(open(MODEL_CONFIG, 'r'), Loader=yaml.Loader)\n",
    "process_config(cfg, verbose=False)\n",
    "\n",
    "# CRT-TPC matching config\n",
    "matcha_cfg_path = '{}/default_matcha.yaml'.format(MATCHA_DIR)"
   ]
  },
  {
   "cell_type": "code",
   "execution_count": 6,
   "id": "49b35e32-b1e5-43ba-af0c-ed5bfc6ef6c4",
   "metadata": {},
   "outputs": [
    {
     "name": "stdout",
     "output_type": "stream",
     "text": [
      "Welcome to JupyROOT 6.22/08\n",
      "Registered /sdf/data/neutrino/icarus/bnb_numu_cosmic/sample/numu_corsika_mini_raw.h5\n"
     ]
    }
   ],
   "source": [
    "from analysis.manager import AnaToolsManager\n",
    "manager = AnaToolsManager(analysis_config)\n",
    "\n",
    "manager.initialize()"
   ]
  },
  {
   "cell_type": "code",
   "execution_count": 7,
   "id": "fe376d1b-3eae-4524-82a1-c76954d9d4ef",
   "metadata": {},
   "outputs": [],
   "source": [
    "data, result = manager.forward(iteration=0)"
   ]
  },
  {
   "cell_type": "code",
   "execution_count": 8,
   "id": "2d6649ff-44eb-40a9-82eb-3f3942b388c4",
   "metadata": {},
   "outputs": [
    {
     "data": {
      "text/plain": [
       "dict_keys(['shower_fragment_node_pred', 'ppn_coords', 'particle_seg', 'particle_node_pred_type', 'particle_start_points', 'track_fragment_end_points', 'ppn_masks', 'track_fragment_start_points', 'fragment_clusts', 'particle_group_pred', 'ppn_classify_endpoints', 'ppn_points', 'segmentation', 'shower_fragment_start_points', 'particle_node_pred_vtx', 'particle_end_points', 'input_rescaled', 'fragment_seg', 'cluster_label_adapted', 'particle_clusts'])"
      ]
     },
     "execution_count": 8,
     "metadata": {},
     "output_type": "execute_result"
    }
   ],
   "source": [
    "result.keys()"
   ]
  },
  {
   "cell_type": "code",
   "execution_count": 9,
   "id": "c3632274-49f3-4b7d-889d-141e6446d1ab",
   "metadata": {},
   "outputs": [],
   "source": [
    "data.keys()\n",
    "if 'crthits' not in data.keys():\n",
    "    raise ValueError('crthits not found in data dictionary.')"
   ]
  },
  {
   "cell_type": "code",
   "execution_count": 10,
   "id": "8d13ecf0-ed5b-4eda-92ad-ceb121656908",
   "metadata": {},
   "outputs": [
    {
     "name": "stdout",
     "output_type": "stream",
     "text": [
      "Building particles instead of loading...\n",
      "Building interactions instead of loading...\n"
     ]
    }
   ],
   "source": [
    "manager.load_representations(data, result) # This will save 'Particle' and 'Interaction' instances to result dict directly"
   ]
  },
  {
   "cell_type": "code",
   "execution_count": 11,
   "id": "2f3d8ec7-520b-4d4e-884c-49bc5eafe3b1",
   "metadata": {},
   "outputs": [
    {
     "data": {
      "text/plain": [
       "dict_keys(['shower_fragment_node_pred', 'ppn_coords', 'particle_seg', 'particle_node_pred_type', 'particle_start_points', 'track_fragment_end_points', 'ppn_masks', 'track_fragment_start_points', 'fragment_clusts', 'particle_group_pred', 'ppn_classify_endpoints', 'ppn_points', 'segmentation', 'shower_fragment_start_points', 'particle_node_pred_vtx', 'particle_end_points', 'input_rescaled', 'fragment_seg', 'cluster_label_adapted', 'particle_clusts', 'particles', 'interactions', 'truth_particles', 'truth_interactions'])"
      ]
     },
     "execution_count": 11,
     "metadata": {},
     "output_type": "execute_result"
    }
   ],
   "source": [
    "result.keys()"
   ]
  },
  {
   "cell_type": "code",
   "execution_count": 12,
   "id": "0d2c29a3-525a-4507-b9c3-7e5c75c619b4",
   "metadata": {},
   "outputs": [],
   "source": [
    "def has_crthit_match(interactions):\n",
    "    found_crt_match = False\n",
    "    interactions_with_match = []\n",
    "    for interaction_list in interactions:\n",
    "        for interaction in interaction_list:\n",
    "            if interaction.crthit_matched:\n",
    "                found_crt_match = True\n",
    "                interactions_with_match.append(interaction.id)\n",
    "                break\n",
    "\n",
    "    if found_crt_match:\n",
    "        print('CRT match found in interactions:', interactions_with_match)\n",
    "    else:\n",
    "        print('No interactions found with CRT hit match')"
   ]
  },
  {
   "cell_type": "code",
   "execution_count": 13,
   "id": "5cd2a95c-6888-4dcd-ad3a-59db6b1ed74a",
   "metadata": {},
   "outputs": [
    {
     "name": "stdout",
     "output_type": "stream",
     "text": [
      "No interactions found with CRT hit match\n"
     ]
    }
   ],
   "source": [
    "has_crthit_match(result['interactions'])"
   ]
  },
  {
   "cell_type": "code",
   "execution_count": 14,
   "id": "eab3dfff-5df0-4939-af67-ab5e2a621bf6",
   "metadata": {},
   "outputs": [
    {
     "name": "stdout",
     "output_type": "stream",
     "text": [
      "Running CRT matching...\n",
      "*******Running with config********\n",
      " dca_parameters:\n",
      "  isdata: false\n",
      "  method: simple\n",
      "  threshold: 100\n",
      "  trigger_timestamp: None\n",
      "file_save_config:\n",
      "  save_file_name: matcha_output_test.pkl\n",
      "  save_file_path: /sdf/data/neutrino/amogan/matcha/\n",
      "  save_to_file: true\n",
      "match_making_parameters:\n",
      "  matching_method: dca\n",
      "pca_parameters:\n",
      "  direction_method: pca\n",
      "  min_points_in_radius: 10\n",
      "  radius: 10\n",
      "\n",
      "**********************************\n",
      "matcha output saved to /sdf/data/neutrino/amogan/matcha//matcha_output_test.pkl\n",
      "Done CRT matching.\n"
     ]
    }
   ],
   "source": [
    "manager.run_post_processing(data, result)"
   ]
  },
  {
   "cell_type": "code",
   "execution_count": 15,
   "id": "6810b280-9ffe-45bc-9bba-334de7fa6426",
   "metadata": {},
   "outputs": [
    {
     "name": "stdout",
     "output_type": "stream",
     "text": [
      "CRT match found in interactions: [28]\n"
     ]
    }
   ],
   "source": [
    "has_crthit_match(result['interactions'])"
   ]
  },
  {
   "cell_type": "code",
   "execution_count": null,
   "id": "2749b88f-e48d-4ef5-b0b7-7ddb91bad81a",
   "metadata": {},
   "outputs": [],
   "source": []
  }
 ],
 "metadata": {
  "kernelspec": {
   "display_name": "Python 3 (ipykernel)",
   "language": "python",
   "name": "python3"
  },
  "language_info": {
   "codemirror_mode": {
    "name": "ipython",
    "version": 3
   },
   "file_extension": ".py",
   "mimetype": "text/x-python",
   "name": "python",
   "nbconvert_exporter": "python",
   "pygments_lexer": "ipython3",
   "version": "3.8.10"
  }
 },
 "nbformat": 4,
 "nbformat_minor": 5
}
